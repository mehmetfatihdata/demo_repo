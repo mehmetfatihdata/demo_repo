{
 "cells": [
  {
   "cell_type": "code",
   "execution_count": 1,
   "metadata": {},
   "outputs": [],
   "source": [
    "import numpy as np"
   ]
  },
  {
   "cell_type": "code",
   "execution_count": 2,
   "metadata": {},
   "outputs": [
    {
     "name": "stdout",
     "output_type": "stream",
     "text": [
      "mean: 6.6923076923076925\n",
      "median: 8.0\n",
      "mode: ModeResult(mode=array([9]), count=array([2]))\n"
     ]
    }
   ],
   "source": [
    "from scipy import stats\n",
    "\n",
    "salary = [9, 11, 4, 14, 8, 2, 10, 3, 10, 9, 6, 0, 1]\n",
    "\n",
    "mean_salary = np.mean(salary)\n",
    "print(\"mean:\", mean_salary)\n",
    "\n",
    "median_salary = np.median(salary)\n",
    "print(\"median:\", median_salary)\n",
    "\n",
    "mode_salary = stats.mode(salary)\n",
    "print(\"mode:\", mode_salary)"
   ]
  },
  {
   "cell_type": "code",
   "execution_count": 3,
   "metadata": {},
   "outputs": [
    {
     "name": "stdout",
     "output_type": "stream",
     "text": [
      "Range:  14\n",
      "Variance:  17.443786982248522\n",
      "Std:  4.176575987845609\n"
     ]
    }
   ],
   "source": [
    "salary = [9, 11, 4, 14, 8, 2, 10, 3, 10, 9, 6, 0, 1]\n",
    "\n",
    "print(\"Range: \", (np.max(salary)-np.min(salary)))\n",
    "\n",
    "print(\"Variance: \", (np.var(salary)))\n",
    "\n",
    "print(\"Std: \", (np.std(salary)))"
   ]
  },
  {
   "cell_type": "code",
   "execution_count": 4,
   "metadata": {},
   "outputs": [
    {
     "name": "stdout",
     "output_type": "stream",
     "text": [
      "6.0\n"
     ]
    }
   ],
   "source": [
    "# Import stats from scipy library\n",
    "from scipy import stats\n",
    "  \n",
    "data = [8, 10, 4, 24, 8, 3, 10, 3, 40, 7, 6, 12, 4]\n",
    "  \n",
    "# Interquartile range (IQR)\n",
    "IQR = stats.iqr(data, interpolation = 'midpoint')\n",
    "  \n",
    "print(IQR)"
   ]
  },
  {
   "cell_type": "code",
   "execution_count": 5,
   "metadata": {},
   "outputs": [
    {
     "name": "stdout",
     "output_type": "stream",
     "text": [
      "6.0\n"
     ]
    }
   ],
   "source": [
    "# Import numpy library\n",
    "import numpy as np\n",
    "  \n",
    "data = [8, 10, 4, 24, 8, 3, 10, 3, 40, 7, 6, 12, 4]\n",
    "  \n",
    "# First quartile (Q1)\n",
    "Q1 = np.percentile(data, 25, interpolation = 'midpoint')\n",
    "  \n",
    "# Third quartile (Q3)\n",
    "Q3 = np.percentile(data, 75, interpolation = 'midpoint')\n",
    "  \n",
    "# Interquaritle range (IQR)\n",
    "IQR = Q3 - Q1\n",
    "  \n",
    "print(IQR)"
   ]
  },
  {
   "cell_type": "code",
   "execution_count": 23,
   "metadata": {},
   "outputs": [
    {
     "name": "stdout",
     "output_type": "stream",
     "text": [
      "True\n"
     ]
    },
    {
     "data": {
      "text/plain": [
       "False"
      ]
     },
     "execution_count": 23,
     "metadata": {},
     "output_type": "execute_result"
    }
   ],
   "source": [
    "A = \"abcde\"\n",
    "B = \"cdeab\"\n",
    "C = \"acbde\"\n",
    "liste = [A]\n",
    "n = 1\n",
    "while n < len (A) - 1:\n",
    "    liste.append(A[n:] + A[:n])\n",
    "    n += 1\n",
    "print(B in liste)\n",
    "C in liste\n"
   ]
  },
  {
   "cell_type": "code",
   "execution_count": null,
   "metadata": {},
   "outputs": [],
   "source": []
  },
  {
   "cell_type": "code",
   "execution_count": null,
   "metadata": {},
   "outputs": [],
   "source": []
  }
 ],
 "metadata": {
  "kernelspec": {
   "display_name": "Python 3",
   "language": "python",
   "name": "python3"
  },
  "language_info": {
   "codemirror_mode": {
    "name": "ipython",
    "version": 3
   },
   "file_extension": ".py",
   "mimetype": "text/x-python",
   "name": "python",
   "nbconvert_exporter": "python",
   "pygments_lexer": "ipython3",
   "version": "3.7.4"
  }
 },
 "nbformat": 4,
 "nbformat_minor": 4
}
